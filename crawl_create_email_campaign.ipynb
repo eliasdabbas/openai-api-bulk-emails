{
 "cells": [
  {
   "cell_type": "markdown",
   "id": "6070e1a5-60d6-4358-8797-0a84e58fcc4c",
   "metadata": {},
   "source": [
    "<h1 style=\"font-size: 44pt; color: steelblue;\" align=\"center\">Creating custom email marketing messages in bulk with OpenAI's API</h1>"
   ]
  },
  {
   "cell_type": "code",
   "execution_count": 194,
   "id": "c8e2d582-8b16-48c5-8427-4508e6d940af",
   "metadata": {},
   "outputs": [],
   "source": [
    "import os\n",
    "import advertools as adv\n",
    "import pandas as pd\n",
    "pd.options.display.max_columns = None\n",
    "from openai import OpenAI\n",
    "from IPython.display import display_html\n",
    "client = OpenAI(api_key=os.getenv('OPENAI_API_KEY'))"
   ]
  },
  {
   "cell_type": "markdown",
   "id": "52c53183-46b6-4e4a-a8cd-a2ffb2fcad9c",
   "metadata": {},
   "source": [
    "## Crawl a website that contains detailed structured data in JSON-LD format: [maven.com](maven.com)"
   ]
  },
  {
   "cell_type": "code",
   "execution_count": 7,
   "id": "1928d386-28df-4bf7-9663-d3c9284b1100",
   "metadata": {},
   "outputs": [],
   "source": [
    "adv.crawl(\n",
    "    url_list='https://maven.com',\n",
    "    output_file='/Users/me/Google Drive/maven_crawl.jl',\n",
    "    follow_links=True,\n",
    "    custom_settings={\n",
    "        'LOG_FILE': '/Users/me/Google Drive/maven_crawl.log'\n",
    "    })"
   ]
  },
  {
   "cell_type": "markdown",
   "id": "f8f32098-98db-4e4c-81e2-9f8fa0cf85e2",
   "metadata": {},
   "source": [
    "## Select relevant rows and columns\n",
    "\n",
    "* Columns starting with `jsonld_`\n",
    "* The `url` column\n",
    "* Drop rows where `jsonld_name` is `NA`"
   ]
  },
  {
   "cell_type": "code",
   "execution_count": 165,
   "id": "6a02591d-107e-4908-abdc-32cd7160d0ee",
   "metadata": {},
   "outputs": [],
   "source": [
    "columns=[\n",
    "    'url',\n",
    "    'jsonld_name',\n",
    "    'jsonld_description',\n",
    "    'jsonld_image',\n",
    "    'jsonld_url',\n",
    "    'jsonld_creator',\n",
    "    'jsonld_provider.name',\n",
    "    'jsonld_provider.url',\n",
    "    'jsonld_aggregateRating.ratingValue',\n",
    "    'jsonld_aggregateRating.reviewCount',\n",
    "    'jsonld_1_offers.price',\n",
    "    'jsonld_1_offers.priceCurrency'\n",
    "]\n",
    "\n",
    "\n",
    "courses = pd.read_json('maven_crawl.jl', lines=True)[columns].dropna(subset=['jsonld_name'])"
   ]
  },
  {
   "cell_type": "markdown",
   "id": "6312a153-8ddd-4808-983e-7312366693b9",
   "metadata": {},
   "source": [
    "## Loop through each course and create a special prompt\n",
    "\n",
    "* The prompt template is the same, each course's data is insertted dynamically\n",
    "* The response is requested in HTML, so it can be immediately displayed/tested\n",
    "* It's easy to modify the prompt template before deploying to all relevant courses\n",
    "* I suggest you first test with 20-30 courses and see if you get consistent/reliable results"
   ]
  },
  {
   "cell_type": "code",
   "execution_count": 225,
   "id": "9526bb87-275d-4936-9a50-9ceb3f39d6e9",
   "metadata": {},
   "outputs": [],
   "source": [
    "email_responses_gpt4 = []\n",
    "for url, name, description, image, course_url, creator, provider, provider_url, rating_agg, rating_count, price, currency in courses.values[:10]:\n",
    "    if rating_agg > 8:\n",
    "        print(f'Processing {name}: {description}. By: {provider}')\n",
    "        d = dict(url=url, name=name, description=description, image=image,\n",
    "                 course_url=course_url, creator=creator, provider=provider,\n",
    "                 provider_url=provider_url, rating_agg=rating_agg,\n",
    "                 rating_count=rating_count)\n",
    "        try:\n",
    "            email = client.chat.completions.create(\n",
    "                model=\"gpt-4\",\n",
    "                messages=[\n",
    "                    {\"role\": \"system\", \"content\": \"You are a great copywriter, especially in email marketing.\"},\n",
    "                    {\"role\": \"user\", \"content\": f\"\"\"\n",
    "                    Please create an email to market a course, using the following data:\n",
    "                    {d}\n",
    "                    Create the email in HTML\n",
    "                    Include the image at the top\n",
    "                    Make the tone very interesting, inspiring, and authentic\n",
    "                    \"\"\"}\n",
    "                  ]\n",
    "                )\n",
    "            email_responses_gpt4.append(email.dict())\n",
    "        except Exception as e:\n",
    "            email_responses_gpt4.append((url, str(e)))"
   ]
  },
  {
   "cell_type": "markdown",
   "id": "029cf3fe-641d-471b-9b2e-5bd0f9a285b6",
   "metadata": {},
   "source": [
    "## Display the generated email message in full HTML\n",
    "#### Optional: Choose a nice template and apply to all"
   ]
  },
  {
   "cell_type": "code",
   "execution_count": 216,
   "id": "a8bb1fa3-15a7-405c-8b03-84bbd6bd54b9",
   "metadata": {
    "jupyter": {
     "source_hidden": true
    }
   },
   "outputs": [
    {
     "data": {
      "text/html": [
       "Sure, here's a draft of an HTML email that you could use to market your course. Please make sure that you have the appropriate permissions to use the emails and content provided before sending this out:\n",
       "\n",
       "\n",
       "<!DOCTYPE html>\n",
       "<html>\n",
       "<head>\n",
       "    <title>Maven Course Accelerator</title>\n",
       "</head>\n",
       "<body style=\"font-family: Arial, sans-serif; color:#333;\">\n",
       "    <div style=\"max-width: 700px; margin: auto;\">\n",
       "        <image src=\"https://d2426xcxuh3ht5.cloudfront.net/HCb0epiqS6SljmDozKSs_MCA_Social Share_1200x630.jpg\" alt=\"Maven Course Accelerator Image\" style=\"max-width:100%; height:auto;\">\n",
       "\n",
       "        <h1 style=\"font-size: 24px; color:#333; margin-top: 20px;\">Unlock Your Potential with Maven Course Accelerator</h1>\n",
       "\n",
       "        <p>Dear Maven,</p>\n",
       "\n",
       "        <p>Have you ever thought about turning your hard-earned knowledge into a premium course? Well, we believe in the value of sharing expertise and we are excited to introduce a course that can help you do just that - the <a href=\"https://maven.com/maven/course-accelerator\" style=\"color:#337ab7;\">Maven Course Accelerator</a>.</p>\n",
       "\n",
       "        <p>Designed by industry experts <strong>Wes Kao (Cofounder of Maven)</strong> and <strong>Rachel Cai (Marketing Lead)</strong>, this course provides all of the resources you need to start your own course, from custom templates to detailed guidance and personalized feedback.</p>\n",
       "\n",
       "        <p>What's more? It's backed by a community of learners who rate it at an impressive 9.21/10.</p>\n",
       "\n",
       "        <p>Take a leap today. Spark innovation and creativity not only in your life, but in the lives of others. Share your knowledge and watch as it transforms lives. Click <a href=\"https://maven.com/maven/course-accelerator\" style=\"color:#337ab7;\">here</a> to get started with the Maven Course Accelerator.</p>\n",
       "\n",
       "        <p>Innovation awaits...</p>\n",
       "        <p>Team Maven.</p>  \n",
       "    </div>\n",
       "</body>\n",
       "</html>\n",
       "\n",
       "\n",
       "Please let me know if you need any changes to the email."
      ]
     },
     "metadata": {},
     "output_type": "display_data"
    },
    {
     "data": {
      "text/html": [
       "<hr><br><br>"
      ]
     },
     "metadata": {},
     "output_type": "display_data"
    },
    {
     "name": "stdout",
     "output_type": "stream",
     "text": [
      "\n"
     ]
    },
    {
     "data": {
      "text/html": [
       "\n",
       "<!DOCTYPE html>\n",
       "<html>\n",
       "<head>\n",
       "    <meta charset=\"UTF-8\">\n",
       "    <title>Master Remote Team Management Skills with Luca Dellanna</title>\n",
       "</head>\n",
       "\n",
       "<body style=\"font-family: Arial, sans-serif;\">\n",
       "\n",
       "    <img src=\"https://d2426xcxuh3ht5.cloudfront.net/gD58P6lTG2wpzUWaJ1Do_Maven cover.jpg\" alt=\"Managing Remote Teams with Luca Dellanna\" style=\"width:100%; height:auto;\"/>\n",
       "\n",
       "    <div style=\"padding-top: 20px; padding-bottom: 20px;\">\n",
       "        <h1 style=\"color: #333; font-size:28px;\">Discover the Secrets of Successful Remote Team Management</h1>\n",
       "        \n",
       "        <p style=\"color:#666; font-size:18px;\">\n",
       "        Hello there!</p>\n",
       "\n",
       "        <p style=\"color:#666; font-size:18px;\">\n",
       "        Are you feeling overwhelmed with managing your remote team? Do you find yourself juggling numerous challenges in keeping remote individual contributors motivated and engaged? We have just the solution for you!\n",
       "        </p>\n",
       "\n",
       "        <p style=\"color:#666; font-size:18px;\">\n",
       "        Maven presents <a href=\"https://maven.com/luca/managing-remote-teams\" style=\"color: #3498db; text-decoration: none;\" ><strong>'Managing Remote Teams'</strong></a>, an exclusive course designed by the incomparable Luca Dellanna. With an impeccable rating of 10 out of 10, thousands of managers are discovering and employing the best practices to manage, inspire, and lead their remote teams effectively.\n",
       "        </p>\n",
       "\n",
       "        <p style=\"color:#666; font-size:18px;\">\n",
       "        Luca shares his tried-and-true principles that can help you establish the habits necessary to remote team management, ensuring smooth, productive, and rewarding remote work experience. His course is a reservoir of actionable insights painstakingly built from his years of engagement in the field.\n",
       "        </p>\n",
       "        \n",
       "        <a href=\"https://maven.com/luca/managing-remote-teams\" style=\"display:inline-block; padding:16px 32px; color:#fff; background-color:#3498db; text-decoration:none; border-radius:4px; font-size:18px; margin-top: 20px;\">Enroll Now</a>\n",
       "\n",
       "        <p style=\"color:#666; font-size:18px;padding-top: 20px;\">\n",
       "        Master the art of remote management and make the most of Luca's expertise today!\n",
       "        </p>\n",
       "\n",
       "        <p style=\"color:#666; font-size:18px;\">\n",
       "        Excelsior and Happy Learning,\n",
       "        </p>\n",
       "\n",
       "        <p style=\"color:#666; font-size:18px;\">\n",
       "        [Your Name]\n",
       "        </p>\n",
       "    </div>\n",
       "\n",
       "</body>\n",
       "</html>\n"
      ]
     },
     "metadata": {},
     "output_type": "display_data"
    },
    {
     "data": {
      "text/html": [
       "<hr><br><br>"
      ]
     },
     "metadata": {},
     "output_type": "display_data"
    },
    {
     "name": "stdout",
     "output_type": "stream",
     "text": [
      "\n"
     ]
    },
    {
     "data": {
      "text/html": [
       "<HTML>\n",
       "  <body style=\"margin: 0; padding: 0; font-family: Arial, sans-serif;\">\n",
       "    <table align=\"center\" cellpadding=\"0\" cellspacing=\"0\" width=\"600\" style=\"border-collapse: collapse;\">\n",
       "      <tr>\n",
       "        <td>\n",
       "          <img src=\"https://d2426xcxuh3ht5.cloudfront.net/31noPJpTlWZMZJCt7Zdg_Maven - Best Leader Ever.png\" alt=\"The Best Leader They'll Ever Have\">\n",
       "        </td>\n",
       "      </tr>\n",
       "\n",
       "      <tr>\n",
       "        <td style=\"padding: 20px 0 30px 0;\">\n",
       "          <h1 style=\"color: #153643; font-size: 24px;\">Unleash Your Leadership Potential!</h1>\n",
       "        </td>\n",
       "      </tr>\n",
       "\n",
       "      <tr>\n",
       "        <td style=\"padding: 20px 30px 30px 30px; color: #153643; font-size: 16px; line-height: 22px;\">\n",
       "          <p>Greetings,</p>\n",
       "\n",
       "          <p>Are you feeling overwhelmed at managing your team? Navigating the labyrinth of leadership is not for the faint of heart, but the rewards are priceless. We'd like to introduce you to <a href=\"https://maven.com/thrivetolead/bestleaderever\"><b>\"The Best Leader They'll Ever Have\"</b></a>.</p>\n",
       "          \n",
       "          <p>Designed by two legendary pathfinders, Kristen Schmitt, a Professional Certified Coach (PCC), and Karson Kovakovich, a PhD holder, this course will help you unlock the fundamental competencies and emotional intelligence prerequisites of effective leadership.</p>\n",
       "\n",
       "          <p>With an acclaimed rating of 9.75/10 following reviews from 12 participants, we believe this course is primed to turn you into the leader everyone looks up to. Through our guiding principles, you'll learn to empower your team and achieve breakout results - transforming not just your team, but also yourself.</p>\n",
       "\n",
       "          <p>Joining us is as simple as clicking the magic button below. Are you ready to thrive? Your team awaits your greatness.</p>\n",
       "        </td>\n",
       "      </tr>\n",
       "\n",
       "      <tr>\n",
       "        <td>\n",
       "          <a href=\"https://maven.com/thrivetolead/bestleaderever\" style=\"display: inline-block; padding: 10px 20px; font-size: 18px; color: #ffffff; background-color: #ff6347; text-align: center; text-decoration: none;\">Enroll Now</a>\n",
       "        </td>\n",
       "      </tr>\n",
       "\n",
       "      <tr>\n",
       "        <td style=\"padding-top: 30px;\">\n",
       "          <p>Wishing you the best in your leadership journey,</p>\n",
       "          <p><b>Thrive to Lead</b></p>\n",
       "        </td>\n",
       "      </tr>\n",
       "\n",
       "    </table>\n",
       "  </body>\n",
       "</HTML>"
      ]
     },
     "metadata": {},
     "output_type": "display_data"
    },
    {
     "data": {
      "text/html": [
       "<hr><br><br>"
      ]
     },
     "metadata": {},
     "output_type": "display_data"
    },
    {
     "name": "stdout",
     "output_type": "stream",
     "text": [
      "\n"
     ]
    },
    {
     "data": {
      "text/html": [
       "Sure, here is an HTML formatted email, based on your specifications.\n",
       "\n",
       "\n",
       "<!DOCTYPE html>\n",
       "<html>\n",
       "<head>\n",
       "    <title>Propel High Performance Through Humanity - A Course by David Mead</title>\n",
       "</head>\n",
       "<body style=\"font-family: Arial, sans-serif; color: #333;\">\n",
       "    <table width=\"600px\" align=\"center\" border=\"0\" cellspacing=\"0\" cellpadding=\"10\" style=\"background-color: #f9f8f3;\">\n",
       "        <tr>\n",
       "            <td align=\"center\">\n",
       "                <a href=\"https://maven.com/davidmead/trust-and-connect\" target=\"_blank\"><img src=\"https://d2426xcxuh3ht5.cloudfront.net/Hx2u0PaiR4ujZbEUiRTH_Maven course image v2.png\" alt=\"course image\" style=\"display:block;\" /></a>\n",
       "            </td>\n",
       "        </tr>\n",
       "        <tr>\n",
       "            <td align=\"center\" style=\"font-size: 24px; font-weight: bold;\">\n",
       "                Propel High Performance Through Humanity\n",
       "            </td>\n",
       "        </tr>\n",
       "        <tr>\n",
       "            <td align=\"center\" style=\"font-size: 16px;\">\n",
       "                Are you dreaming of ascending from a forgettable manager to a magnetic leader who elevates the trajectory of your team and your business? Now is your moment!\n",
       "            </td>\n",
       "        </tr>\n",
       "        <tr>\n",
       "            <td align=\"center\" style=\"font-size: 14px;\">\n",
       "                I'm excited to announce a brand-new course – \"<strong>Propel High Performance Through Humanity</strong>\" crafted by none other than David Mead. This course has all you need to make the change you've been longing for.\n",
       "            </td>\n",
       "        </tr>\n",
       "        <tr>\n",
       "            <td align=\"center\" style=\"font-size: 14px;\">\n",
       "                Rated an impressive 9.22 out of 10 by our dedicated community, this course is already changing lives and careers for the better.\n",
       "            </td>\n",
       "        </tr>\n",
       "        <tr>\n",
       "            <td align=\"center\">\n",
       "               <a href=\"https://maven.com/davidmead/trust-and-connect\" target=\"_blank\" style=\"display: inline-block; padding: 10px 20px; color: #fff; background: #333; text-decoration: none; font-size: 16px; border-radius: 4px;\">View the Course Now</a>\n",
       "            </td>\n",
       "        </tr>\n",
       "        <tr>\n",
       "            <td align=\"center\" style=\"font-size: 14px;\">\n",
       "                Let's walk this journey to leadership together, one step at a time. Can't wait to see how you grow!\n",
       "            </td>\n",
       "        </tr>\n",
       "        <tr>\n",
       "            <td align=\"center\" style=\"font-size: 16px; font-weight: bold;\">\n",
       "                Be Bold. Be Brave. Be Human.\n",
       "            </td>\n",
       "        </tr>\n",
       "    </table>\n",
       "</body>\n",
       "</html>\n",
       "\n",
       "\n",
       "Please replace `Arial, sans-serif` with your preferred font and adjust the colors if necessary to fit your branding."
      ]
     },
     "metadata": {},
     "output_type": "display_data"
    },
    {
     "data": {
      "text/html": [
       "<hr><br><br>"
      ]
     },
     "metadata": {},
     "output_type": "display_data"
    },
    {
     "name": "stdout",
     "output_type": "stream",
     "text": [
      "\n"
     ]
    },
    {
     "data": {
      "text/html": [
       "Sure, here's an HTML email you can use to market the course:\n",
       "\n",
       "\n",
       "<!DOCTYPE html>\n",
       "<html>\n",
       "<head>\n",
       "    <title>Unlock Insights with 'Jobs-to-be-Done' Listening Skills</title>\n",
       "    <style>\n",
       "        body {font-family: Arial, sans-serif;}\n",
       "        h1 {color: #444444;}\n",
       "        p {color: #666666;}\n",
       "        .img-container {text-align: center;}\n",
       "        .cta-button {\n",
       "            background-color: #008CBA;\n",
       "            border: none;\n",
       "            color: white;\n",
       "            padding: 15px 32px;\n",
       "            text-align: center;\n",
       "            text-decoration: none;\n",
       "            display: inline-block;\n",
       "            font-size: 16px;\n",
       "            margin: 4px 2px;\n",
       "            cursor: pointer;\n",
       "        }\n",
       "    </style>\n",
       "</head>\n",
       "<body>\n",
       "    <div class=\"img-container\">\n",
       "        <img src=\"https://d2426xcxuh3ht5.cloudfront.net/FOKiia6HQNOonXWHGYjc_Maven JTBD Listening Skills.png\" alt=\"JTBD Listening Skills\">\n",
       "    </div>\n",
       "    <h1>Welcome to 'Customer Jobs-to-be-Done Listening Skills'</h1>\n",
       "    <p>Hello there,</p>\n",
       "    <p>Ever wondered why some products or services succeed while others fail?</p>\n",
       "    <p>The answer could lie in fully understanding your customers' actual needs, desires, and the jobs they are hiring your solutions to do. Having a deeper understanding of your customer will enlighten your decision making, boost your creativity and place you head and shoulders above others in your industry. We invite you to embark on this enlightening journey with us.</p>\n",
       "    <p>Our reputable course creator, <strong>John Gusiff</strong>, has compiled extensive resources that dwell into the art of conducting 'Jobs-to-be-Done' interviews using The Wheel of Progress®. These resources help you to identify behavioral-based barriers to progress and provide you with the skills to overcome them.</p>\n",
       "\n",
       "    <p>Fill your toolbox with <a href=\"https://maven.com/customer-centric-solutions-llc/jtbd-besci-for-more-insightful-customer-interviews\">'Customer Jobs-To-Be-Done Listening Skills'</a>, a course steeped in actionable takeaways for immediate implementation.</p>\n",
       "\n",
       "    <p>Led by our provider, <strong>Customer Centric LLC</strong>, this course gives you the opportunity to delve into wisdom earned through years of study and practice. With an impressive overall rating of 9.44, it’s clear that this course delivers on its promise.</p>\n",
       "\n",
       "    <p>Start your journey today. Dive in, learn, and emerge more informed, motivated, and equipped for success in your endeavors.</p>\n",
       "\n",
       "    <p><a href=\"https://maven.com/customer-centric-solutions-llc/jtbd-besci-for-more-insightful-customer-interviews\" class=\"cta-button\">Check Out The Course Now</a></p>\n",
       "\n",
       "    <p>Thank you,</p>\n",
       "    <p>Your Customer Centric Team</p>\n",
       "</body>\n",
       "</html>\n"
      ]
     },
     "metadata": {},
     "output_type": "display_data"
    },
    {
     "data": {
      "text/html": [
       "<hr><br><br>"
      ]
     },
     "metadata": {},
     "output_type": "display_data"
    },
    {
     "name": "stdout",
     "output_type": "stream",
     "text": [
      "\n"
     ]
    },
    {
     "data": {
      "text/html": [
       "\n",
       "<!DOCTYPE html>\n",
       "<html>\n",
       "<head>\n",
       "<Style>\n",
       "body {\n",
       "    font-family: Arial, sans-serif;\n",
       "}\n",
       "</Style>\n",
       "</head>\n",
       "<body>\n",
       "<center>\n",
       "<img src=\"https://d2426xcxuh3ht5.cloudfront.net/Et8NCMiQPqIpfbykaVQt_Courageous Feedback Leora.png\" alt=\"Courageous Feedback Course\">\n",
       "</center>\n",
       "\n",
       "<h1>Boost Your Leadership Impact with Courageous Feedback!</h1>\n",
       "\n",
       "<p>Dear Future Leader,</p>\n",
       "\n",
       "<p>Are you eager to elevate your suite of leadership skills to new heights? Do you wish to guide your team by providing impactful, helpful feedback that spurs growth? If so, we have an exciting opportunity for you.</p>\n",
       "\n",
       "<p>Our premier <a href=\"https://maven.com/get-courageous/courageous-feedback\">Courageous Feedback</a> course, facilitated by the accomplished Leora Kirby, is a transformative professional development experience that provides you with the insights, tools, and skills you need to give and receive feedback effectively.</p>\n",
       "\n",
       "<p>What makes the course a standout? With an astounding average rating of 9.5 out of 10 based on 8 reliable reviewers, this course is specifically designed to foster an environment of open communication. Ultimately, it allows leaders to empower their teams, drive results, and accelerate personal and team growth. </p>\n",
       "\n",
       "<p>You'll gain access to a robust framework, customisable tools and templates, all geared towards making the process of giving and receiving feedback a more confident and productive experience.</p>\n",
       "\n",
       "<p>Your path to becoming a more effective leader starts <a href=\"https://maven.com/get-courageous/courageous-feedback\">here</a>. </p>\n",
       "\n",
       "<p>Ready to take a bold step in your leadership journey? Then don't hesitate! Remember ‘Courage’, as Winston Churchill famously said, is “what it takes to stand up and speak”. It’s time you found your voice.</p>\n",
       "\n",
       "<p>Sincerely,</p>\n",
       "\n",
       "<p>The Get Courageous Team</p>\n",
       "</body>\n",
       "</html>\n"
      ]
     },
     "metadata": {},
     "output_type": "display_data"
    },
    {
     "data": {
      "text/html": [
       "<hr><br><br>"
      ]
     },
     "metadata": {},
     "output_type": "display_data"
    },
    {
     "name": "stdout",
     "output_type": "stream",
     "text": [
      "\n"
     ]
    },
    {
     "data": {
      "text/html": [
       "<!DOCTYPE html>\n",
       "<html>\n",
       "\n",
       "<head>\n",
       "    <title>Discover the Strategies to Lead a Thriving Team with Hybrid Leadership Habits</title>\n",
       "</head>\n",
       "\n",
       "<body style=\"font-family: Arial, sans-serif; padding: 20px; margin: 0;\">\n",
       "    <a href=\"https://maven.com/ben-hughes/hybrid-habits\">\n",
       "        <img src=\"https://d2426xcxuh3ht5.cloudfront.net/T6VhfoqtRMOpigXZnbbC_Mavencopycopy copy.jpg\" alt=\"Hybrid Leadership Habits\" style=\"width:100%; max-width:500px; display:block; margin:0 auto;\">\n",
       "    </a>\n",
       "    <div style=\"margin-top: 20px;\">\n",
       "        <h1 style=\"text-align: center; color: #333;\">Discover \"Hybrid Leadership Habits\"</h1>\n",
       "        <h3 style=\"text-align: center; color: #666;\">A Course by Leadership Expert Ben Hughes</h3>\n",
       "        <p style=\"color: #555; font-size: 16px;\">\n",
       "            Dear aspiring leader,\n",
       "        </p>\n",
       "        <p style=\"color: #555; font-size: 16px;\">\n",
       "           Imagine leading a team that is not just high-performing, sustainable, and resilient, but also blissful and engaged. Imagine a work culture where everyone, regardless of their location, feels valued and excited to come to work each day. This is not only possible, but it’s closer than you think.\n",
       "        </p>\n",
       "        <p style=\"color: #555; font-size: 16px;\">\n",
       "            I introduce to you <a href=\"https://maven.com/ben-hughes/hybrid-habits\" style=\"color: #3498db; text-decoration: none;\">Hybrid Leadership Habits</a>. Created by leadership expert, Ben Hughes, this course provides you with the recipes for success in leading a diverse remote and in-person team. Ben's proven strategies and potent habits will empower you to foster a harmonious and highly productive work culture, no matter where in the world you and your team find yourselves.\n",
       "        </p>\n",
       "        <p style=\"color: #555; font-size: 16px;\">\n",
       "            With an impressive average rating of 8.75 from fellow learners, you can be confident that the tools and habits shared in this course have already started transforming leadership styles and teams for the better.\n",
       "        </p>\n",
       "        <p style=\"text-align: center;\">\n",
       "            <a href=\"https://maven.com//ben-hughes/hybrid-habits\" style=\"background-color: #3498db; color: #fff; padding: 10px 20px; text-decoration: none; border-radius: 5px;\">Start Your Leadership Transformation Now</a>\n",
       "        </p>\n",
       "        <p style=\"color: #555; font-size: 16px;\">\n",
       "            Now is the moment to become the leader your team needs – one with the resilience, adaptability and empathy to nurture an engaged and high-performing workforce in today's hybrid world.\n",
       "        </p>\n",
       "        <p style=\"color: #555; font-size: 16px;\">\n",
       "            Act fast, start building your Hybrid Leadership Habits now!\n",
       "        </p>\n",
       "        <p style=\"color: #555; font-size: 16px;\">\n",
       "            With best wishes for your leadership journey,\n",
       "        </p>\n",
       "        <p style=\"color: #555; font-size: 16px;\">\n",
       "            [Your Name]\n",
       "        </p>\n",
       "    </div>\n",
       "</body>\n",
       "\n",
       "</html>\n"
      ]
     },
     "metadata": {},
     "output_type": "display_data"
    },
    {
     "data": {
      "text/html": [
       "<hr><br><br>"
      ]
     },
     "metadata": {},
     "output_type": "display_data"
    },
    {
     "name": "stdout",
     "output_type": "stream",
     "text": [
      "\n"
     ]
    },
    {
     "data": {
      "text/html": [
       "<!DOCTYPE html>\n",
       "<html>\n",
       "  <head>\n",
       "    <title>Transform into an Exceptional Leader with NBAC Academy</title>\n",
       "  </head>\n",
       "  <body style=\"font-family: Arial, sans-serif; margin:0; padding:0;\">\n",
       "    <div style=\"padding: 20px; color: #333;\">\n",
       "      <p>Dear Aspiring Leader,</p>\n",
       "      \n",
       "      <p>Looking for an exciting way to bring out your true leadership potential? Eager to step up in your career and make a difference in the lives you touch?</p>\n",
       "      \n",
       "      <p align=\"center\"><img src=\"https://d2426xcxuh3ht5.cloudfront.net/MMady8UWSVqEFrxyaf1t_Embark Leadership Development Program (1200 × 630 px).jpg\" /></p>\n",
       "      \n",
       "      <h2 align=\"center\"><a href=\"https://maven.com/nbac-academy/embark-leadership-development-program\" style=\"text-decoration: none; color: #000;\">Embark Leadership Development Program</a></h2>\n",
       "      \n",
       "      <p>Introducing the <b>\"Embark Leadership Development Program\"</b>, a transformative leadership course presented by the acclaimed creator, <b>Nejat Abdurahman</b>, and brought to you by the prestigious <b>NBAC Academy</b>. This step-by-step guide, furnished with live classes, and interactive role plays, is meticulously designed to make you excel as a leader and create sustainable results.</p>\n",
       "\n",
       "      <p>Join our community of successful middle managers, who gained inspiring leadership insights from our program, earning it a stellar rating average of <b>9.83</b> out of 10 by our esteemed participants around the world.</p>\n",
       "      \n",
       "      <p>So, are you ready to embark on a journey of self-discovery, growth, and transformation? Feel your capabilities expanding with each lecture as you process and understand the mysteries and the truths about becoming a highly effective leader. </p>\n",
       "      \n",
       "      <p align=\"center\">\n",
       "        <a style=\"background-color: #0066cc; color: #fff; text-decoration: none; font-weight: bold; padding: 10px 20px; border-radius: 5px; display: inline-block;\" href=\"https://maven.com/nbac-academy/embark-leadership-development-program\">Start Now</a>\n",
       "      </p>\n",
       "      \n",
       "      <p>Imagine the impact you can make when you step confidently into your role as a leader. The sky's the limit!</p>\n",
       "  \n",
       "      <p>Inspire, Motivate, Lead,</p>\n",
       "      <p>The NBAC Academy Team</p>\n",
       "  \n",
       "      <p>P.S. Don't forget to check out the rave reviews from our past participants!</p>\n",
       "    </div>\n",
       "  </body>\n",
       "</html>"
      ]
     },
     "metadata": {},
     "output_type": "display_data"
    },
    {
     "data": {
      "text/html": [
       "<hr><br><br>"
      ]
     },
     "metadata": {},
     "output_type": "display_data"
    },
    {
     "name": "stdout",
     "output_type": "stream",
     "text": [
      "\n"
     ]
    },
    {
     "data": {
      "text/html": [
       "<html>\n",
       "<body>\n",
       "\n",
       "<p><img src=\"https://d2426xcxuh3ht5.cloudfront.net/rKWzn0XERzKrqe9MvDwN_HPMH3 - Course Image.jpg\" alt=\"High Performance Mindsets & Habits\"></p>\n",
       "\n",
       "<p style=\"font-size:18px; color:#333333; font-family:Arial, sans-serif; line-height:1.5;\">Dear Lifelong Learner,</p>\n",
       "\n",
       "<p style=\"font-size:16px; color:#333333; font-family:Arial, sans-serif; line-height:1.6;\">We hope this email finds YOU at your creative and inspiring best! Today, we have something truly transformational in store for you. Get ready to embark on a quest that can revolutionize your lifestyle, redefine your productivity, and shape an impressive personal life vision.</p>\n",
       "\n",
       "<h1 style=\"font-size:20px; color:#333333; font-family:Arial, sans-serif;\"><a href=\"https://maven.com/amanmerchant/hpmh\" style=\"text-decoration:none; color:#0066CC;\">High Performance Mindsets & Habits</a></h1>\n",
       "\n",
       "<p style=\"font-size:16px; color:#333333; font-family:Arial, sans-serif; line-height:1.6;\">A meticulously designed '12 hours / 12 days' journey by <a href=\"https://maven.com//amanmerchant/hpmh\" style=\"text-decoration:none; color:#0066CC;\">Aman Merchant</a> that will effectively inspire leaders like YOU to shape a life vision, instill refreshing new habits, powerfully conquer distractions, and propel your productivity into the stratosphere!</p>\n",
       "\n",
       "<p style=\"font-size:16px; color:#333333; font-family:Arial, sans-serif; line-height:1.6;\">And the proof is in the numbers. With an impressive cumulative rating of 9.56, reflecting the feedback from 27 participants, you are investing in a course that delivers on its promises, genuinely enriching the lives of many.</p>\n",
       "\n",
       "<p style=\"font-size:16px; color:#333333; font-family:Arial, sans-serif; line-height:1.6;\">What are you waiting for? It’s time YOU took a leap towards nurturing your capabilities and unleashing your innate leadership prowess. Endorse authenticity, invest in the future. Let Aman Merchant be your compass, guiding you on your path to success!</p>\n",
       "\n",
       "<p style=\"font-size:18px; color:#333333; font-family:Arial, sans-serif; line-height:1.5;\"><a href=\"https://maven.com/amanmerchant/hpmh\" style=\"background:#0066CC; color:#ffffff; text-decoration:none; padding:15px;\">Enroll Now!</a></p>\n",
       "\n",
       "<p style=\"font-size:16px; color:#333333; font-family:Arial, sans-serif; line-height:1.6;\">To your success,</p>\n",
       "\n",
       "<p style=\"font-size:18px; color:#333333; font-family:Arial, sans-serif; line-height:1.5;\">The Maven Team</p>\n",
       "</body>\n",
       "</html>\n"
      ]
     },
     "metadata": {},
     "output_type": "display_data"
    },
    {
     "data": {
      "text/html": [
       "<hr><br><br>"
      ]
     },
     "metadata": {},
     "output_type": "display_data"
    },
    {
     "name": "stdout",
     "output_type": "stream",
     "text": [
      "\n"
     ]
    },
    {
     "data": {
      "text/html": [
       "<!DOCTYPE html>\n",
       "<html>\n",
       "<head>\n",
       "    <title>Reclaim YOUR Time Course</title>\n",
       "</head>\n",
       "<body style=\"color: #444; font-family: Arial, sans-serif;\">\n",
       "    <div style=\"max-width: 500px; margin: auto;\">\n",
       "        <div style=\"text-align: center;\">\n",
       "            <a href=\"https://maven.com/life-junctions/reclaim-your-time\">\n",
       "                <img src=\"https://d2426xcxuh3ht5.cloudfront.net/1IdSpdpQVyC3Z7znp3Qk_ReclaimYourTime2_1200x630px.jpg\" alt=\"Reclaim YOUR Time\" style=\"width: 100%; height: auto; margin-bottom: 15px;\">\n",
       "            </a>\n",
       "        </div>\n",
       "        \n",
       "        <h1 style=\"text-align: center;\"><strong>Reclaim YOUR Time</strong></h1>\n",
       "        \n",
       "        <p>Hello there,</p>\n",
       "\n",
       "        <p>Are you constantly caught in the endless loop of busyness that leaves you feeling drained and disheartened? Do you feel like time is constantly slipping through your fingers?</p>\n",
       "\n",
       "        <p><strong>It's time to break free.</strong></p>\n",
       "\n",
       "        <p>I am thrilled to introduce you to <strong>\"Reclaim YOUR Time\"</strong>, a mind-transforming course by Dr. Stacy S. Kim at Life Junctions that aims to help you stop feeling overwhelmed by your seemingly never-ending to-do list.</p>\n",
       "\n",
       "        <p>This course is designed not just to help you manage your time better, but to create a space in your life for what truly matters <strong>to you</strong>.</p>\n",
       "        \n",
       "        <p>You deserve to live your life to its fullest potential, not just surviving from one day to the next. So embark on this journey with us and uncover the power you have over your time. </p>\n",
       "\n",
       "        <p>With a staggering average <strong>rating of 9.44 out of 10</strong> from past participants, this course is sure to change the way you perceive and utilize your time.</p>\n",
       "\n",
       "        <p><a href=\"https://maven.com/life-junctions/reclaim-your-time\" style=\"color: #fff; background-color: #007bFF; padding: 10px 20px; text-decoration: none; border-radius: 5px; display: inline-block; margin: 15px 0;\">Find Out More and Enroll Now</a></p>\n",
       "        \n",
       "        <p>Take this opportunity to hit the reset button on your life. <strong>Reclaim YOUR Time</strong> is just one click away. See you in the course!</p>\n",
       "\n",
       "        <p>Best,</p>\n",
       "        <p>Your Friends at Life Junctions</p>\n",
       "\n",
       "    </div>\n",
       "</body>\n",
       "</html>"
      ]
     },
     "metadata": {},
     "output_type": "display_data"
    },
    {
     "data": {
      "text/html": [
       "<hr><br><br>"
      ]
     },
     "metadata": {},
     "output_type": "display_data"
    },
    {
     "name": "stdout",
     "output_type": "stream",
     "text": [
      "\n"
     ]
    }
   ],
   "source": [
    "for response in email_responses_gpt4:\n",
    "    display_html(response['choices'][0]['message']['content'].replace('```html', '').replace('```', ''), raw=True)\n",
    "    display_html('<hr><br><br>', raw=True)\n",
    "    print()"
   ]
  },
  {
   "cell_type": "code",
   "execution_count": 223,
   "id": "7c3e1a5f-8aad-4b26-869d-d381687e5954",
   "metadata": {},
   "outputs": [],
   "source": [
    "# email_responses_elias = []\n",
    "# for url, name, description, image, course_url, creator, provider, provider_url, rating_agg, rating_count, price, currency in courses.values:\n",
    "#     if 'Elias' in provider:\n",
    "#         print(f'Processing {name}: {description}. By: {provider}')\n",
    "#         d = dict(url=url, name=name, description=description, image=image,\n",
    "#                  course_url=course_url, creator=creator, provider=provider,\n",
    "#                  provider_url=provider_url, rating_agg=rating_agg,\n",
    "#                  rating_count=rating_count)\n",
    "#         try:\n",
    "#             email = client.chat.completions.create(\n",
    "#                 model=\"gpt-4\",\n",
    "#                 messages=[\n",
    "#                     {\"role\": \"system\", \"content\": \"You are a great copywriter, especially in email marketing.\"},\n",
    "#                     {\"role\": \"user\", \"content\": f\"\"\"\n",
    "#                     Please create an email to market a course, using the following data:\n",
    "#                     {d}\n",
    "#                     Create the email in HTML\n",
    "#                     Include the image at the top\n",
    "#                     Make the tone very interesting, inspiring, and authentic\n",
    "#                     \"\"\"}\n",
    "#                   ]\n",
    "#                 )\n",
    "#             email_responses_elias.append(email.dict())\n",
    "#         except Exception as e:\n",
    "#             email_responses_elias.append((url, str(e)))"
   ]
  },
  {
   "cell_type": "markdown",
   "id": "2dbf0d7f-3b80-4e47-8960-71e4558d43cf",
   "metadata": {},
   "source": [
    "<h1 style=\"font-size: 44pt; color: steelblue;\" align=\"center\">I want to get started learning Data Science!</h1>"
   ]
  },
  {
   "cell_type": "code",
   "execution_count": 222,
   "id": "abf00dbb-5613-4f2f-ae96-a9e5575bb1f0",
   "metadata": {
    "jupyter": {
     "source_hidden": true
    }
   },
   "outputs": [
    {
     "data": {
      "text/html": [
       "\n",
       "<!DOCTYPE html>\n",
       "<html>\n",
       "<body>\n",
       "\n",
       "<h1 style=\"text-align:center; color:#000080; font-size:30px;\">Excel The Maverick Way with Data Science for SEO!</h1>\n",
       "\n",
       "<img src=\"https://img.youtube.com/vi/VcWkEXY9g7U/hqdefault.jpg\" alt=\"Course thumbnail\" style=\"display:block; margin-left:auto; margin-right:auto; border-radius:15px;\">\n",
       "\n",
       "<p style=\"text-align:center; font-size:18px; font-family:Arial; color:#808080;\">2024: \"I don't need Python to do SEO, I use Excel.\"</p>\n",
       "<p style=\"text-align:center; font-size:18px; font-family:Arial; color:#808080;\">1994: \"I don't need Excel to do accounting, I use a calculator.\"</p>\n",
       "<hr>\n",
       "\n",
       "<p style=\"text-align:center; font-size:20px; font-family:Arial;\">Ever wondered why the world was shifting from calculators to Excel, and now, Provocatively towards Python for SEO? Are you ready to be part of this shift? Are you ready to transcend your understanding of SEO with the power of Python?<a href=\"https://maven.com/eliasdabbas/data-science-python-seo\" style=\"color:#0000FF; text-decoration:none;\"> This all-inclusive course,</a> \"Data Science with Python for SEO\" is the answer for you!</p>\n",
       "\n",
       "<h2 style=\"text-align:center; color:#000080; font-size:25px;\">Course Overview</h2>\n",
       "<p style=\"text-align:center; font-size:18px; font-family:Arial;\">This comprehensive course will catapult your SEO skills to new heights and horizons. It is designed to unlock the potential of Python in the realm of SEO. Taught by Elias Dabbas, a renowned expert in the field, his approach is engaging, challenging, and most importantly, practical.</p>\n",
       "\n",
       "<h2 style=\"text-align:center; color:#000080; font-size:25px;\">Why This Course?</h2>\n",
       "<p style=\"text-align:center; font-size:18px; font-family:Arial;\">With an exceptional rating of 8.8 and glowing reviews, \"Data Science with Python for SEO\" promises an authentic and inspiring educational journey. <a href= \"https://maven.com//eliasdabbas/data-science-python-seo\" style=\"color:#0000FF; text-decoration:none;\">Discover Elias Dabbas' course </a> for yourself and get ahead in the constantly changing digital marketing environment.</p>\n",
       "\n",
       "<h3 style=\"text-align:center; color:#000080; font-size:22px;\">Are you ready to be a Pioneer?</h3>\n",
       "<p style=\"text-align:center; font-size:17px; font-family:Arial;\">Embrace the shift, both from calculators to Excel, and now, from Excel to Python. Together, let's write a new chapter in the future of SEO!</p>\n",
       "\n",
       "<p style=\"text-align:center;\"><a href=\"https://maven.com/eliasdabbas/data-science-python-seo\" style=\" background-color:#000080; color:white; padding:14px 20px; text-align:center; text-decoration:none; display:inline-block; font-size:17px; border-radius:12px; \">Enroll Now!</a></p>\n",
       "\n",
       "<h5 style=\"text-align:center; color:#BDBDBD; font-size:14px;\"> If you have any questions or need assistance, feel free to contact us. We are always here for you!</h5>\n",
       "\n",
       "</body>\n",
       "</html>\n"
      ]
     },
     "metadata": {},
     "output_type": "display_data"
    },
    {
     "data": {
      "text/html": [
       "<hr><br><br>"
      ]
     },
     "metadata": {},
     "output_type": "display_data"
    },
    {
     "name": "stdout",
     "output_type": "stream",
     "text": [
      "\n"
     ]
    },
    {
     "data": {
      "text/html": [
       "<!DOCTYPE html>\n",
       "<html>\n",
       "<head>\n",
       "    <style>\n",
       "        .email-content {\n",
       "            font-family: Arial, sans-serif;\n",
       "            max-width: 600px;\n",
       "            margin: auto;\n",
       "        }\n",
       "        h1 {\n",
       "            color: #333;\n",
       "        }\n",
       "        h2 {\n",
       "            color: #666;\n",
       "        }\n",
       "        a {\n",
       "            color: #25A9E0;\n",
       "        }\n",
       "        p {\n",
       "            line-height: 1.6;\n",
       "        }\n",
       "        .footer {\n",
       "            font-size: 0.9em;\n",
       "            color: #aaa;\n",
       "            text-align: center;\n",
       "        }\n",
       "    </style>\n",
       "</head>\n",
       "<body>\n",
       "    <div class=\"email-content\">\n",
       "        <img src=\"https://img.youtube.com/vi/VcWkEXY9g7U/hqdefault.jpg\" alt=\"Data Science with Python for SEO\">\n",
       "\n",
       "        <h1>Empower Your SEO Game with Python</h1>\n",
       "        \n",
       "        <p>Dear Maven,</p>\n",
       "        \n",
       "        <p>Do you remember the days when calculators seemed like a luxury, not a necessity for accounting? Nowadays, you'd probably laugh at that thought right?</p>\n",
       "\n",
       "        <p>In the same light, the future of SEO hinges on Python. If you're still exclusively using Excel for your SEO needs, you are living in the past just like those who relied on calculators for accounting back in '94.</p>\n",
       "            \n",
       "        <p>No worries though, we're here to catapult you into the future with a unique opportunity. Get ahead with our highly-rated (<span color:\"#007BFF\">8.8/10</span>) and transformative course - <a href=\"https://maven.com/eliasdabbas/data-science-python-seo\">\"Data Science with Python for SEO\"</a>.</p>\n",
       "\n",
       "        <p>Created by the renowned expert, <a href=\"https://maven.com//eliasdabbas/data-science-python-seo\">Elias Dabbas</a>, this course will arm you with real-world Python skills to help you tackle complex SEO challenges, and elevate your career to the next level.</p>\n",
       "\n",
       "        <p>The change is inevitable, the time is now. Enroll today and break free from the limitations of the past, into a future of endless possibilities. Propel your SEO skills, beyond Excel.</p>\n",
       "\n",
       "        <p>Best,</p>\n",
       "        <p>The Team at Elias Dabbas</p>\n",
       "\n",
       "        <hr>\n",
       "        \n",
       "        <p class=\"footer\">You are receiving this email because you subscribed to Elias Dabbas's course updates. If you wish to unsubscribe, please click here.</p>\n",
       "    </div>\n",
       "</body>\n",
       "</html>"
      ]
     },
     "metadata": {},
     "output_type": "display_data"
    },
    {
     "data": {
      "text/html": [
       "<hr><br><br>"
      ]
     },
     "metadata": {},
     "output_type": "display_data"
    },
    {
     "name": "stdout",
     "output_type": "stream",
     "text": [
      "\n"
     ]
    }
   ],
   "source": [
    "for response in email_responses_elias:\n",
    "    display_html(response['choices'][0]['message']['content'].replace('```html', '').replace('```', ''), raw=True)\n",
    "    display_html('<hr><br><br>', raw=True)\n",
    "    print()"
   ]
  }
 ],
 "metadata": {
  "kernelspec": {
   "display_name": "Python 3 (ipykernel)",
   "language": "python",
   "name": "python3"
  },
  "language_info": {
   "codemirror_mode": {
    "name": "ipython",
    "version": 3
   },
   "file_extension": ".py",
   "mimetype": "text/x-python",
   "name": "python",
   "nbconvert_exporter": "python",
   "pygments_lexer": "ipython3",
   "version": "3.12.1"
  }
 },
 "nbformat": 4,
 "nbformat_minor": 5
}
